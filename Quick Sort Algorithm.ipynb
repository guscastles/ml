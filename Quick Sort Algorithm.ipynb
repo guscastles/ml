{
 "cells": [
  {
   "cell_type": "markdown",
   "metadata": {},
   "source": [
    "# Quick Sort Algorithm, With TDD"
   ]
  },
  {
   "cell_type": "markdown",
   "metadata": {},
   "source": [
    "### *The classic qsort algorithm, done with TDD and being documented as it is created*"
   ]
  },
  {
   "cell_type": "markdown",
   "metadata": {},
   "source": [
    "We start by creating and testing the **\\__new_list__** function, which returns a new list based on the indeces given, i.e., swapping the values in those indeces and resturning the new list"
   ]
  },
  {
   "cell_type": "code",
   "execution_count": 430,
   "metadata": {},
   "outputs": [],
   "source": [
    "def __swap__(l, i, j):\n",
    "    swap = l[i]\n",
    "    l[i] = l[j]\n",
    "    l[j] = swap\n",
    "    return l"
   ]
  },
  {
   "cell_type": "code",
   "execution_count": 431,
   "metadata": {},
   "outputs": [],
   "source": [
    "def test_new_list():\n",
    "    assert __swap__([1, 3, 2], 1, 2) == [1, 2, 3]\n",
    "    assert __swap__([3, 1, 2], 0, 1) == [1, 3, 2]\n",
    "    assert __swap__([3, 2, 1], 0, 1) == [2, 3, 1]\n",
    "    assert __swap__([2, 3, 1], 0, 2) == [1, 3, 2]\n",
    "    assert __swap__([2, 3, 1], 0, 2) == [1, 3, 2]\n",
    "    assert __swap__([1, 2, 3], 0, 2) == [3, 2, 1]\n",
    "    assert __swap__([1, 2, 3], 1, 2) == [1, 3, 2]"
   ]
  },
  {
   "cell_type": "code",
   "execution_count": 432,
   "metadata": {},
   "outputs": [],
   "source": [
    "test_new_list()"
   ]
  },
  {
   "cell_type": "markdown",
   "metadata": {},
   "source": [
    "We create the qsort function, that will be updated throughout this exercise"
   ]
  },
  {
   "cell_type": "code",
   "execution_count": 589,
   "metadata": {},
   "outputs": [],
   "source": [
    "def qsort(a_list):\n",
    "    \n",
    "    def sort(l):\n",
    "        return [__swap__(l, i, j) if l[i] > l[j] else l for i in range(0, size - 1) for j in range(i + 1, size)]\n",
    "\n",
    "    size = len(a_list)\n",
    "    return a_list if size < 2 else sort(a_list[:]).pop()"
   ]
  },
  {
   "cell_type": "markdown",
   "metadata": {},
   "source": [
    "We initially test for the empty list"
   ]
  },
  {
   "cell_type": "code",
   "execution_count": 590,
   "metadata": {},
   "outputs": [],
   "source": [
    "def test_empty_list():\n",
    "    assert not qsort([])"
   ]
  },
  {
   "cell_type": "code",
   "execution_count": 591,
   "metadata": {},
   "outputs": [],
   "source": [
    "test_empty_list()"
   ]
  },
  {
   "cell_type": "markdown",
   "metadata": {},
   "source": [
    "Next step is to sort with 1, 2 and 3 elements"
   ]
  },
  {
   "cell_type": "code",
   "execution_count": 592,
   "metadata": {},
   "outputs": [],
   "source": [
    "def test_sort_1_element():\n",
    "    assert qsort([1]) == [1]"
   ]
  },
  {
   "cell_type": "code",
   "execution_count": 593,
   "metadata": {},
   "outputs": [],
   "source": [
    "test_sort_1_element()"
   ]
  },
  {
   "cell_type": "code",
   "execution_count": 594,
   "metadata": {},
   "outputs": [],
   "source": [
    "def test_sort_2_elements():\n",
    "    assert qsort([1, 2]) == [1, 2]\n",
    "    assert qsort([1, 1]) == [1, 1]\n",
    "    assert qsort([2, 1]) == [1, 2]"
   ]
  },
  {
   "cell_type": "code",
   "execution_count": 595,
   "metadata": {},
   "outputs": [],
   "source": [
    "test_sort_2_elements()"
   ]
  },
  {
   "cell_type": "markdown",
   "metadata": {},
   "source": [
    "So far, this is working. Now with 3 elements"
   ]
  },
  {
   "cell_type": "code",
   "execution_count": 596,
   "metadata": {},
   "outputs": [],
   "source": [
    "def test_sort_3_elements():\n",
    "    assert qsort([1, 1, 1]) == [1, 1, 1]\n",
    "    assert qsort([1, 2, 2]) == [1, 2, 2]\n",
    "    assert qsort([1, 1, 2]) == [1, 1, 2]\n",
    "    assert qsort([1, 2, 3]) == [1, 2, 3]\n",
    "    assert qsort([2, 1, 3]) == [1, 2, 3]\n",
    "    assert qsort([1, 3, 2]) == [1, 2, 3]\n",
    "    assert qsort([3, 2, 1]) == [1, 2, 3]\n",
    "    assert qsort([2, 3, 1]) == [1, 2, 3]\n",
    "    assert qsort([1, 2, 3]) == [1, 2, 3]\n",
    "    assert qsort([3, 1, 2]) == [1, 2, 3]"
   ]
  },
  {
   "cell_type": "code",
   "execution_count": 597,
   "metadata": {},
   "outputs": [],
   "source": [
    "test_sort_3_elements()"
   ]
  },
  {
   "cell_type": "markdown",
   "metadata": {},
   "source": [
    "Finally we test for any number of elements, radomly"
   ]
  },
  {
   "cell_type": "code",
   "execution_count": 598,
   "metadata": {},
   "outputs": [],
   "source": [
    "def test_randomly():\n",
    "    assert qsort([4, 2, 1, 3]) == [1, 2, 3, 4]\n",
    "    assert qsort([1, 4, 7, 2, 1]) == [1, 1, 2, 4, 7]\n",
    "    assert qsort([5, 6, 4, 6, 9, 0, 1, 3, 2, 8, 7, 5]) == [0, 1, 2, 3, 4, 5, 5, 6, 6, 7, 8, 9]"
   ]
  },
  {
   "cell_type": "code",
   "execution_count": 599,
   "metadata": {},
   "outputs": [],
   "source": [
    "test_randomly()"
   ]
  },
  {
   "cell_type": "code",
   "execution_count": null,
   "metadata": {},
   "outputs": [],
   "source": []
  }
 ],
 "metadata": {
  "kernelspec": {
   "display_name": "Python 3",
   "language": "python",
   "name": "python3"
  },
  "language_info": {
   "codemirror_mode": {
    "name": "ipython",
    "version": 3
   },
   "file_extension": ".py",
   "mimetype": "text/x-python",
   "name": "python",
   "nbconvert_exporter": "python",
   "pygments_lexer": "ipython3",
   "version": "3.6.5"
  }
 },
 "nbformat": 4,
 "nbformat_minor": 2
}
