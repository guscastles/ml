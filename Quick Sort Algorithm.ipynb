{
 "cells": [
  {
   "cell_type": "markdown",
   "metadata": {},
   "source": [
    "# Quick Sort Algorithm, With TDD"
   ]
  },
  {
   "cell_type": "markdown",
   "metadata": {},
   "source": [
    "### *The classic qsort algorithm, done with TDD and being documented as it is created*"
   ]
  },
  {
   "cell_type": "markdown",
   "metadata": {},
   "source": [
    "We start by creating and testing the **\\__new_list__** function, which returns a new list based on the indeces given, i.e., swapping the values in those indeces and resturning the new list"
   ]
  },
  {
   "cell_type": "code",
   "execution_count": 1,
   "metadata": {},
   "outputs": [],
   "source": [
    "def __new_list__(l, i, j):\n",
    "    if (l[i] > l[j]):\n",
    "        return l[:i] + l[j:j + 1] + l[i + 1:j] + l[i:i + 1] + l[j + 1:]\n",
    "    return l"
   ]
  },
  {
   "cell_type": "code",
   "execution_count": 2,
   "metadata": {},
   "outputs": [],
   "source": [
    "def test_new_list():\n",
    "    assert __new_list__([1, 3, 2], 1, 2) == [1, 2, 3]\n",
    "    assert __new_list__([3, 1, 2], 0, 1) == [1, 3, 2]\n",
    "    assert __new_list__([3, 2, 1], 0, 1) == [2, 3, 1]\n",
    "    assert __new_list__([2, 3, 1], 0, 2) == [1, 3, 2]\n",
    "    assert __new_list__([2, 3, 1], 0, 2) == [1, 3, 2]\n",
    "    assert __new_list__([1, 2, 3], 0, 2) == [1, 2, 3]\n",
    "    assert __new_list__([1, 2, 3], 1, 2) == [1, 2, 3]"
   ]
  },
  {
   "cell_type": "code",
   "execution_count": 3,
   "metadata": {},
   "outputs": [],
   "source": [
    "test_new_list()"
   ]
  },
  {
   "cell_type": "markdown",
   "metadata": {},
   "source": [
    "We create the qsort function, that will be updated throughout this exercise"
   ]
  },
  {
   "cell_type": "code",
   "execution_count": 4,
   "metadata": {},
   "outputs": [],
   "source": [
    "def qsort(a_list):\n",
    "    \n",
    "    def __sort__(l, i, j):\n",
    "        return l if j >= len(l) else __sort__(__sort__(__new_list__(l, i, j), i, j + 1), i + 1, i + 2)\n",
    "\n",
    "    return a_list if len(a_list) <= 1 else __sort__(a_list, 0, 1)"
   ]
  },
  {
   "cell_type": "markdown",
   "metadata": {},
   "source": [
    "We initially test for the empty list"
   ]
  },
  {
   "cell_type": "code",
   "execution_count": 5,
   "metadata": {},
   "outputs": [],
   "source": [
    "def test_empty_list():\n",
    "    assert not qsort([])"
   ]
  },
  {
   "cell_type": "code",
   "execution_count": 6,
   "metadata": {},
   "outputs": [],
   "source": [
    "test_empty_list()"
   ]
  },
  {
   "cell_type": "markdown",
   "metadata": {},
   "source": [
    "Next step is to sort with 1, 2 and 3 elements"
   ]
  },
  {
   "cell_type": "code",
   "execution_count": 7,
   "metadata": {},
   "outputs": [],
   "source": [
    "def test_sort_1_element():\n",
    "    assert qsort([1]) == [1]"
   ]
  },
  {
   "cell_type": "code",
   "execution_count": 8,
   "metadata": {},
   "outputs": [],
   "source": [
    "test_sort_1_element()"
   ]
  },
  {
   "cell_type": "code",
   "execution_count": 9,
   "metadata": {},
   "outputs": [],
   "source": [
    "def test_sort_2_elements():\n",
    "    assert qsort([1, 2]) == [1, 2]\n",
    "    assert qsort([1, 1]) == [1, 1]\n",
    "    assert qsort([2, 1]) == [1, 2]"
   ]
  },
  {
   "cell_type": "code",
   "execution_count": 10,
   "metadata": {},
   "outputs": [],
   "source": [
    "test_sort_2_elements()"
   ]
  },
  {
   "cell_type": "markdown",
   "metadata": {},
   "source": [
    "So far, this is working. Now with 3 elements"
   ]
  },
  {
   "cell_type": "code",
   "execution_count": 11,
   "metadata": {},
   "outputs": [],
   "source": [
    "def test_sort_3_elements():\n",
    "    assert qsort([1, 1, 1]) == [1, 1, 1]\n",
    "    assert qsort([1, 2, 2]) == [1, 2, 2]\n",
    "    assert qsort([1, 1, 2]) == [1, 1, 2]\n",
    "    assert qsort([1, 2, 3]) == [1, 2, 3]\n",
    "    assert qsort([2, 1, 3]) == [1, 2, 3]\n",
    "    assert qsort([1, 3, 2]) == [1, 2, 3]\n",
    "    assert qsort([3, 2, 1]) == [1, 2, 3]\n",
    "    assert qsort([2, 3, 1]) == [1, 2, 3]\n",
    "    assert qsort([1, 2, 3]) == [1, 2, 3]\n",
    "    assert qsort([3, 1, 2]) == [1, 2, 3]"
   ]
  },
  {
   "cell_type": "code",
   "execution_count": 12,
   "metadata": {},
   "outputs": [],
   "source": [
    "test_sort_3_elements()"
   ]
  },
  {
   "cell_type": "markdown",
   "metadata": {},
   "source": [
    "Finally we test for any number of elements, radomly"
   ]
  },
  {
   "cell_type": "code",
   "execution_count": 15,
   "metadata": {},
   "outputs": [],
   "source": [
    "def test_randomly():\n",
    "    assert qsort([4, 2, 1, 3]) == [1, 2, 3, 4]\n",
    "    assert qsort([1, 4, 7, 2, 1]) == [1, 1, 2, 4, 7]\n",
    "    assert qsort([5, 6, 4, 6, 9, 0, 1, 3, 2, 8, 7, 5]) == [0, 1, 2, 3, 4, 5, 5, 6, 6, 7, 8, 9]"
   ]
  },
  {
   "cell_type": "code",
   "execution_count": 16,
   "metadata": {},
   "outputs": [],
   "source": [
    "test_randomly()"
   ]
  },
  {
   "cell_type": "code",
   "execution_count": null,
   "metadata": {},
   "outputs": [],
   "source": []
  }
 ],
 "metadata": {
  "kernelspec": {
   "display_name": "Python 3",
   "language": "python",
   "name": "python3"
  },
  "language_info": {
   "codemirror_mode": {
    "name": "ipython",
    "version": 3
   },
   "file_extension": ".py",
   "mimetype": "text/x-python",
   "name": "python",
   "nbconvert_exporter": "python",
   "pygments_lexer": "ipython3",
   "version": "3.6.5"
  }
 },
 "nbformat": 4,
 "nbformat_minor": 2
}
